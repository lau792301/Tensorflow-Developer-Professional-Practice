{
  "cells": [
    {
      "cell_type": "markdown",
      "metadata": {
        "id": "bFWbEb6uGbN-"
      },
      "source": [
        "# Week 4: Predicting the next word\n",
        "\n",
        "Welcome to this assignment! During this week you saw how to create a model that will predict the next word in a text sequence, now you will implement such model and train it using a corpus of Shakespeare's sonnets, while also creating some helper functions to pre-process the data.\n",
        "\n",
        "\n",
        "Let's get started!"
      ]
    },
    {
      "cell_type": "code",
      "execution_count": 29,
      "metadata": {
        "id": "BOwsuGQQY9OL",
        "tags": [
          "graded"
        ]
      },
      "outputs": [],
      "source": [
        "import numpy as np \n",
        "import matplotlib.pyplot as plt\n",
        "from tensorflow.keras.models import Sequential\n",
        "from tensorflow.keras.utils import to_categorical \n",
        "from tensorflow.keras.preprocessing.text import Tokenizer\n",
        "from tensorflow.keras.preprocessing.sequence import pad_sequences\n",
        "from tensorflow.keras.layers import Embedding, LSTM, Dense, Bidirectional, Dropout\n",
        "from tensorflow.keras import regularizers\n",
        "from tensorflow.keras.optimizers import Adam"
      ]
    },
    {
      "cell_type": "markdown",
      "metadata": {
        "id": "BTxqlHqKHzhr"
      },
      "source": [
        "For this assignment you will be using the [Shakespeare Sonnets Dataset](https://www.opensourceshakespeare.org/views/sonnets/sonnet_view.php?range=viewrange&sonnetrange1=1&sonnetrange2=154), which contains more than 2000 lines of text extracted from Shakespeare's sonnets."
      ]
    },
    {
      "cell_type": "code",
      "execution_count": 2,
      "metadata": {
        "id": "WZ4qOUzujMP6",
        "tags": [
          "graded"
        ],
        "outputId": "44744947-4f53-4c79-9867-5db5aca96757",
        "colab": {
          "base_uri": "https://localhost:8080/"
        }
      },
      "outputs": [
        {
          "output_type": "stream",
          "name": "stdout",
          "text": [
            "/usr/local/lib/python3.7/dist-packages/gdown/cli.py:131: FutureWarning: Option `--id` was deprecated in version 4.3.1 and will be removed in 5.0. You don't need to pass it anymore to use a file ID.\n",
            "  category=FutureWarning,\n",
            "Downloading...\n",
            "From: https://drive.google.com/uc?id=108jAePKK4R3BVYBbYJZ32JWUwxeMg20K\n",
            "To: /content/sonnets.txt\n",
            "100% 93.6k/93.6k [00:00<00:00, 67.7MB/s]\n"
          ]
        }
      ],
      "source": [
        "# sonnets.txt\n",
        "!gdown --id 108jAePKK4R3BVYBbYJZ32JWUwxeMg20K"
      ]
    },
    {
      "cell_type": "code",
      "execution_count": 3,
      "metadata": {
        "id": "Pfd-nYKij5yY",
        "tags": [
          "graded"
        ],
        "outputId": "722fa769-5774-434a-c81c-fe0cee80f598",
        "colab": {
          "base_uri": "https://localhost:8080/"
        }
      },
      "outputs": [
        {
          "output_type": "stream",
          "name": "stdout",
          "text": [
            "There are 2159 lines of sonnets\n",
            "\n",
            "The first 5 lines look like this:\n",
            "\n",
            "from fairest creatures we desire increase,\n",
            "that thereby beauty's rose might never die,\n",
            "but as the riper should by time decease,\n",
            "his tender heir might bear his memory:\n",
            "but thou, contracted to thine own bright eyes,\n"
          ]
        }
      ],
      "source": [
        "# Define path for file with sonnets\n",
        "SONNETS_FILE = './sonnets.txt'\n",
        "\n",
        "# Read the data\n",
        "with open('./sonnets.txt') as f:\n",
        "    data = f.read()\n",
        "\n",
        "# Convert to lower case and save as a list\n",
        "corpus = data.lower().split(\"\\n\")\n",
        "\n",
        "print(f\"There are {len(corpus)} lines of sonnets\\n\")\n",
        "print(f\"The first 5 lines look like this:\\n\")\n",
        "for i in range(5):\n",
        "  print(corpus[i])"
      ]
    },
    {
      "cell_type": "markdown",
      "metadata": {
        "id": "imB15zrSNhA1"
      },
      "source": [
        "## Tokenizing the text\n",
        "\n",
        "Now fit the Tokenizer to the corpus and save the total number of words."
      ]
    },
    {
      "cell_type": "code",
      "execution_count": 4,
      "metadata": {
        "id": "AAhM_qAZk0o5",
        "tags": [
          "graded"
        ]
      },
      "outputs": [],
      "source": [
        "tokenizer = Tokenizer()\n",
        "tokenizer.fit_on_texts(corpus)\n",
        "total_words = len(tokenizer.word_index) + 1"
      ]
    },
    {
      "cell_type": "markdown",
      "metadata": {
        "id": "77-0sA46OETa"
      },
      "source": [
        "When converting the text into sequences you can use the `texts_to_sequences` method as you have done throughout this course.\n",
        "\n",
        "In the next graded function you will need to process this corpus one line at a time. Given this, it is important to keep in mind that the way you are feeding the data unto this method affects the result. Check the following example to make this clearer.\n",
        "\n",
        "The first example of the corpus is a string and looks like this:"
      ]
    },
    {
      "cell_type": "code",
      "execution_count": 5,
      "metadata": {
        "id": "tqhPxdeXlfjh",
        "tags": [
          "graded"
        ],
        "outputId": "b5d641b2-2537-4cd3-e813-27166d5df98c",
        "colab": {
          "base_uri": "https://localhost:8080/",
          "height": 35
        }
      },
      "outputs": [
        {
          "output_type": "execute_result",
          "data": {
            "text/plain": [
              "'from fairest creatures we desire increase,'"
            ],
            "application/vnd.google.colaboratory.intrinsic+json": {
              "type": "string"
            }
          },
          "metadata": {},
          "execution_count": 5
        }
      ],
      "source": [
        "corpus[0]"
      ]
    },
    {
      "cell_type": "markdown",
      "metadata": {
        "id": "XFMP4z11O3os"
      },
      "source": [
        "If you pass this text directly into the `texts_to_sequences` method you will get an unexpected result:"
      ]
    },
    {
      "cell_type": "code",
      "execution_count": 6,
      "metadata": {
        "id": "EMSEhmbzNZCE",
        "tags": [
          "graded"
        ],
        "outputId": "e5746971-effe-4d55-9258-16c2f8177b92",
        "colab": {
          "base_uri": "https://localhost:8080/"
        }
      },
      "outputs": [
        {
          "output_type": "execute_result",
          "data": {
            "text/plain": [
              "[[],\n",
              " [],\n",
              " [58],\n",
              " [],\n",
              " [],\n",
              " [],\n",
              " [17],\n",
              " [6],\n",
              " [],\n",
              " [],\n",
              " [],\n",
              " [],\n",
              " [],\n",
              " [],\n",
              " [],\n",
              " [],\n",
              " [17],\n",
              " [],\n",
              " [],\n",
              " [],\n",
              " [],\n",
              " [],\n",
              " [],\n",
              " [],\n",
              " [],\n",
              " [],\n",
              " [],\n",
              " [],\n",
              " [],\n",
              " [6],\n",
              " [],\n",
              " [],\n",
              " [],\n",
              " [6],\n",
              " [],\n",
              " [],\n",
              " [],\n",
              " [],\n",
              " [17],\n",
              " [],\n",
              " [],\n",
              " []]"
            ]
          },
          "metadata": {},
          "execution_count": 6
        }
      ],
      "source": [
        "tokenizer.texts_to_sequences(corpus[0])"
      ]
    },
    {
      "cell_type": "markdown",
      "metadata": {
        "id": "pPZmZtpEPEeI"
      },
      "source": [
        "This happened because `texts_to_sequences` expects a list and you are providing a string. However a string is still and `iterable` in Python so you will get the word index of every character in the string.\n",
        "\n",
        "Instead you need to place the example whithin a list before passing it to the method:"
      ]
    },
    {
      "cell_type": "code",
      "execution_count": 7,
      "metadata": {
        "id": "Qmgo-vXhk4nd",
        "tags": [
          "graded"
        ],
        "outputId": "e26aee16-1b67-468f-b414-08c80b12787f",
        "colab": {
          "base_uri": "https://localhost:8080/"
        }
      },
      "outputs": [
        {
          "output_type": "execute_result",
          "data": {
            "text/plain": [
              "[[34, 417, 877, 166, 213, 517]]"
            ]
          },
          "metadata": {},
          "execution_count": 7
        }
      ],
      "source": [
        "tokenizer.texts_to_sequences([corpus[0]])"
      ]
    },
    {
      "cell_type": "markdown",
      "metadata": {
        "id": "0DU7wK-eQ5dc"
      },
      "source": [
        "Notice that you received the sequence wrapped inside a list so in order to get only the desired sequence you need to explicitly get the first item in the list like this:"
      ]
    },
    {
      "cell_type": "code",
      "execution_count": 8,
      "metadata": {
        "id": "kpTy8WmIQ57P",
        "tags": [
          "graded"
        ],
        "outputId": "1cce6f0c-cf4a-4ff5-d1b9-dbbe833eb9d2",
        "colab": {
          "base_uri": "https://localhost:8080/"
        }
      },
      "outputs": [
        {
          "output_type": "execute_result",
          "data": {
            "text/plain": [
              "[34, 417, 877, 166, 213, 517]"
            ]
          },
          "metadata": {},
          "execution_count": 8
        }
      ],
      "source": [
        "tokenizer.texts_to_sequences([corpus[0]])[0]"
      ]
    },
    {
      "cell_type": "markdown",
      "metadata": {
        "id": "-oqy9KjXRJ9A"
      },
      "source": [
        "## Generating n_grams\n",
        "\n",
        "Now complete the `n_gram_seqs` function below. This function receives the fitted tokenizer and the corpus (which is a list of strings) and should return a list containing the `n_gram` sequences for each line in the corpus:"
      ]
    },
    {
      "cell_type": "code",
      "execution_count": 9,
      "metadata": {
        "id": "iy4baJMDl6kj",
        "tags": [
          "graded"
        ]
      },
      "outputs": [],
      "source": [
        "# GRADED FUNCTION: n_gram_seqs\n",
        "def n_gram_seqs(corpus, tokenizer):\n",
        "    \"\"\"\n",
        "    Generates a list of n-gram sequences\n",
        "    \n",
        "    Args:\n",
        "        corpus (list of string): lines of texts to generate n-grams for\n",
        "        tokenizer (object): an instance of the Tokenizer class containing the word-index dictionary\n",
        "    \n",
        "    Returns:\n",
        "        input_sequences (list of int): the n-gram sequences for each line in the corpus\n",
        "    \"\"\"\n",
        "    input_sequences = []\n",
        "    \n",
        "    ### START CODE HERE\n",
        "    for line in corpus:\n",
        "      token_list = tokenizer.texts_to_sequences([line])[0]\n",
        "      for i in range(1,len(token_list)):\n",
        "        n_gram_sequence = token_list[:i+1]\n",
        "        input_sequences.append(n_gram_sequence)\n",
        "    ### END CODE HERE\n",
        "    \n",
        "    return input_sequences"
      ]
    },
    {
      "cell_type": "code",
      "execution_count": 10,
      "metadata": {
        "id": "DlKqW2pfM7G3",
        "tags": [
          "graded"
        ],
        "outputId": "3f3e2412-3c8f-4885-a0e4-fc067b9c74c0",
        "colab": {
          "base_uri": "https://localhost:8080/"
        }
      },
      "outputs": [
        {
          "output_type": "stream",
          "name": "stdout",
          "text": [
            "n_gram sequences for first example look like this:\n",
            "\n"
          ]
        },
        {
          "output_type": "execute_result",
          "data": {
            "text/plain": [
              "[[34, 417],\n",
              " [34, 417, 877],\n",
              " [34, 417, 877, 166],\n",
              " [34, 417, 877, 166, 213],\n",
              " [34, 417, 877, 166, 213, 517]]"
            ]
          },
          "metadata": {},
          "execution_count": 10
        }
      ],
      "source": [
        "# Test your function with one example\n",
        "first_example_sequence = n_gram_seqs([corpus[0]], tokenizer)\n",
        "\n",
        "print(\"n_gram sequences for first example look like this:\\n\")\n",
        "first_example_sequence"
      ]
    },
    {
      "cell_type": "markdown",
      "metadata": {
        "id": "0HL8Ug6UU0Jt"
      },
      "source": [
        "**Expected Output:**\n",
        "\n",
        "```\n",
        "n_gram sequences for first example look like this:\n",
        "\n",
        "[[34, 417],\n",
        " [34, 417, 877],\n",
        " [34, 417, 877, 166],\n",
        " [34, 417, 877, 166, 213],\n",
        " [34, 417, 877, 166, 213, 517]]\n",
        "```"
      ]
    },
    {
      "cell_type": "code",
      "execution_count": 11,
      "metadata": {
        "id": "wtPpCcBjNc4c",
        "tags": [
          "graded"
        ],
        "outputId": "c2cf31b5-8769-4a8e-c5b9-39d1d3fbbdde",
        "colab": {
          "base_uri": "https://localhost:8080/"
        }
      },
      "outputs": [
        {
          "output_type": "stream",
          "name": "stdout",
          "text": [
            "n_gram sequences for next 3 examples look like this:\n",
            "\n"
          ]
        },
        {
          "output_type": "execute_result",
          "data": {
            "text/plain": [
              "[[8, 878],\n",
              " [8, 878, 134],\n",
              " [8, 878, 134, 351],\n",
              " [8, 878, 134, 351, 102],\n",
              " [8, 878, 134, 351, 102, 156],\n",
              " [8, 878, 134, 351, 102, 156, 199],\n",
              " [16, 22],\n",
              " [16, 22, 2],\n",
              " [16, 22, 2, 879],\n",
              " [16, 22, 2, 879, 61],\n",
              " [16, 22, 2, 879, 61, 30],\n",
              " [16, 22, 2, 879, 61, 30, 48],\n",
              " [16, 22, 2, 879, 61, 30, 48, 634],\n",
              " [25, 311],\n",
              " [25, 311, 635],\n",
              " [25, 311, 635, 102],\n",
              " [25, 311, 635, 102, 200],\n",
              " [25, 311, 635, 102, 200, 25],\n",
              " [25, 311, 635, 102, 200, 25, 278]]"
            ]
          },
          "metadata": {},
          "execution_count": 11
        }
      ],
      "source": [
        "# Test your function with a bigger corpus\n",
        "next_3_examples_sequence = n_gram_seqs(corpus[1:4], tokenizer)\n",
        "\n",
        "print(\"n_gram sequences for next 3 examples look like this:\\n\")\n",
        "next_3_examples_sequence"
      ]
    },
    {
      "cell_type": "markdown",
      "metadata": {
        "id": "EIzecMczU9UB"
      },
      "source": [
        "**Expected Output:**\n",
        "\n",
        "```\n",
        "n_gram sequences for next 3 examples look like this:\n",
        "\n",
        "[[8, 878],\n",
        " [8, 878, 134],\n",
        " [8, 878, 134, 351],\n",
        " [8, 878, 134, 351, 102],\n",
        " [8, 878, 134, 351, 102, 156],\n",
        " [8, 878, 134, 351, 102, 156, 199],\n",
        " [16, 22],\n",
        " [16, 22, 2],\n",
        " [16, 22, 2, 879],\n",
        " [16, 22, 2, 879, 61],\n",
        " [16, 22, 2, 879, 61, 30],\n",
        " [16, 22, 2, 879, 61, 30, 48],\n",
        " [16, 22, 2, 879, 61, 30, 48, 634],\n",
        " [25, 311],\n",
        " [25, 311, 635],\n",
        " [25, 311, 635, 102],\n",
        " [25, 311, 635, 102, 200],\n",
        " [25, 311, 635, 102, 200, 25],\n",
        " [25, 311, 635, 102, 200, 25, 278]]\n",
        "```"
      ]
    },
    {
      "cell_type": "markdown",
      "metadata": {
        "id": "dx3V_RjFWQSu"
      },
      "source": [
        "Apply the `n_gram_seqs` transformation to the whole corpus and save the maximum sequence length to use it later:"
      ]
    },
    {
      "cell_type": "code",
      "execution_count": 12,
      "metadata": {
        "id": "laMwiRUpmuSd",
        "tags": [
          "graded"
        ],
        "outputId": "3326eea7-d9c3-4fba-af12-a16978e06ee6",
        "colab": {
          "base_uri": "https://localhost:8080/"
        }
      },
      "outputs": [
        {
          "output_type": "stream",
          "name": "stdout",
          "text": [
            "n_grams of input_sequences have length: 15462\n",
            "maximum length of sequences is: 11\n"
          ]
        }
      ],
      "source": [
        "# Apply the n_gram_seqs transformation to the whole corpus\n",
        "input_sequences = n_gram_seqs(corpus, tokenizer)\n",
        "\n",
        "# Save max length \n",
        "max_sequence_len = max([len(x) for x in input_sequences])\n",
        "\n",
        "print(f\"n_grams of input_sequences have length: {len(input_sequences)}\")\n",
        "print(f\"maximum length of sequences is: {max_sequence_len}\")"
      ]
    },
    {
      "cell_type": "markdown",
      "metadata": {
        "id": "2OciMdmEdE9L"
      },
      "source": [
        "**Expected Output:**\n",
        "\n",
        "```\n",
        "n_grams of input_sequences have length: 15462\n",
        "maximum length of sequences is: 11\n",
        "```"
      ]
    },
    {
      "cell_type": "markdown",
      "metadata": {
        "id": "zHY7HroqWq12"
      },
      "source": [
        "## Add padding to the sequences\n",
        "\n",
        "Now code the `pad_seqs` function which will pad any given sequences to the desired maximum length. Notice that this function receives a list of sequences and should return a numpy array with the padded sequences: "
      ]
    },
    {
      "cell_type": "code",
      "execution_count": 15,
      "metadata": {
        "cellView": "code",
        "id": "WW1-qAZaWOhC",
        "tags": [
          "graded"
        ]
      },
      "outputs": [],
      "source": [
        "# GRADED FUNCTION: pad_seqs\n",
        "def pad_seqs(input_sequences, maxlen):\n",
        "    \"\"\"\n",
        "    Pads tokenized sequences to the same length\n",
        "    \n",
        "    Args:\n",
        "        input_sequences (list of int): tokenized sequences to pad\n",
        "        maxlen (int): maximum length of the token sequences\n",
        "    \n",
        "    Returns:\n",
        "        padded_sequences (array of int): tokenized sequences padded to the same length\n",
        "    \"\"\"\n",
        "    ### START CODE HERE\n",
        "    padded_sequences = np.array(pad_sequences(input_sequences, maxlen=maxlen, padding='pre'))\n",
        "    \n",
        "    return padded_sequences\n",
        "    ### END CODE HERE"
      ]
    },
    {
      "cell_type": "code",
      "execution_count": 16,
      "metadata": {
        "id": "IqVQ0pb3YHLr",
        "tags": [
          "graded"
        ],
        "outputId": "65cd7a12-6d81-4731-b980-53980234e6f5",
        "colab": {
          "base_uri": "https://localhost:8080/"
        }
      },
      "outputs": [
        {
          "output_type": "execute_result",
          "data": {
            "text/plain": [
              "array([[  0,   0,   0,  34, 417],\n",
              "       [  0,   0,  34, 417, 877],\n",
              "       [  0,  34, 417, 877, 166],\n",
              "       [ 34, 417, 877, 166, 213],\n",
              "       [417, 877, 166, 213, 517]], dtype=int32)"
            ]
          },
          "metadata": {},
          "execution_count": 16
        }
      ],
      "source": [
        "# Test your function with the n_grams_seq of the first example\n",
        "first_padded_seq = pad_seqs(first_example_sequence, len(first_example_sequence))\n",
        "first_padded_seq"
      ]
    },
    {
      "cell_type": "markdown",
      "metadata": {
        "id": "Re_avDznXRnU"
      },
      "source": [
        "**Expected Output:**\n",
        "\n",
        "```\n",
        "array([[  0,   0,   0,  34, 417],\n",
        "       [  0,   0,  34, 417, 877],\n",
        "       [  0,  34, 417, 877, 166],\n",
        "       [ 34, 417, 877, 166, 213],\n",
        "       [417, 877, 166, 213, 517]], dtype=int32)\n",
        "```"
      ]
    },
    {
      "cell_type": "code",
      "execution_count": 17,
      "metadata": {
        "id": "j56_UCOBYzZt",
        "tags": [
          "graded"
        ],
        "outputId": "4b84cfaf-b4fd-4a14-9fd5-400c19541c92",
        "colab": {
          "base_uri": "https://localhost:8080/"
        }
      },
      "outputs": [
        {
          "output_type": "execute_result",
          "data": {
            "text/plain": [
              "array([[  0,   0,   0,   0,   0,   0,   8, 878],\n",
              "       [  0,   0,   0,   0,   0,   8, 878, 134],\n",
              "       [  0,   0,   0,   0,   8, 878, 134, 351],\n",
              "       [  0,   0,   0,   8, 878, 134, 351, 102],\n",
              "       [  0,   0,   8, 878, 134, 351, 102, 156],\n",
              "       [  0,   8, 878, 134, 351, 102, 156, 199],\n",
              "       [  0,   0,   0,   0,   0,   0,  16,  22],\n",
              "       [  0,   0,   0,   0,   0,  16,  22,   2],\n",
              "       [  0,   0,   0,   0,  16,  22,   2, 879],\n",
              "       [  0,   0,   0,  16,  22,   2, 879,  61],\n",
              "       [  0,   0,  16,  22,   2, 879,  61,  30],\n",
              "       [  0,  16,  22,   2, 879,  61,  30,  48],\n",
              "       [ 16,  22,   2, 879,  61,  30,  48, 634],\n",
              "       [  0,   0,   0,   0,   0,   0,  25, 311],\n",
              "       [  0,   0,   0,   0,   0,  25, 311, 635],\n",
              "       [  0,   0,   0,   0,  25, 311, 635, 102],\n",
              "       [  0,   0,   0,  25, 311, 635, 102, 200],\n",
              "       [  0,   0,  25, 311, 635, 102, 200,  25],\n",
              "       [  0,  25, 311, 635, 102, 200,  25, 278]], dtype=int32)"
            ]
          },
          "metadata": {},
          "execution_count": 17
        }
      ],
      "source": [
        "# Test your function with the n_grams_seq of the next 3 examples\n",
        "next_3_padded_seq = pad_seqs(next_3_examples_sequence, max([len(s) for s in next_3_examples_sequence]))\n",
        "next_3_padded_seq"
      ]
    },
    {
      "cell_type": "markdown",
      "metadata": {
        "id": "3rmcDluOXcIU"
      },
      "source": [
        "**Expected Output:**\n",
        "\n",
        "```\n",
        "array([[  0,   0,   0,   0,   0,   0,   8, 878],\n",
        "       [  0,   0,   0,   0,   0,   8, 878, 134],\n",
        "       [  0,   0,   0,   0,   8, 878, 134, 351],\n",
        "       [  0,   0,   0,   8, 878, 134, 351, 102],\n",
        "       [  0,   0,   8, 878, 134, 351, 102, 156],\n",
        "       [  0,   8, 878, 134, 351, 102, 156, 199],\n",
        "       [  0,   0,   0,   0,   0,   0,  16,  22],\n",
        "       [  0,   0,   0,   0,   0,  16,  22,   2],\n",
        "       [  0,   0,   0,   0,  16,  22,   2, 879],\n",
        "       [  0,   0,   0,  16,  22,   2, 879,  61],\n",
        "       [  0,   0,  16,  22,   2, 879,  61,  30],\n",
        "       [  0,  16,  22,   2, 879,  61,  30,  48],\n",
        "       [ 16,  22,   2, 879,  61,  30,  48, 634],\n",
        "       [  0,   0,   0,   0,   0,   0,  25, 311],\n",
        "       [  0,   0,   0,   0,   0,  25, 311, 635],\n",
        "       [  0,   0,   0,   0,  25, 311, 635, 102],\n",
        "       [  0,   0,   0,  25, 311, 635, 102, 200],\n",
        "       [  0,   0,  25, 311, 635, 102, 200,  25],\n",
        "       [  0,  25, 311, 635, 102, 200,  25, 278]], dtype=int32)\n",
        "```"
      ]
    },
    {
      "cell_type": "code",
      "execution_count": 18,
      "metadata": {
        "id": "rgK-Q_micEYA",
        "tags": [
          "graded"
        ],
        "outputId": "1657b2d5-48d7-40d4-bb6f-719a8769fa9c",
        "colab": {
          "base_uri": "https://localhost:8080/"
        }
      },
      "outputs": [
        {
          "output_type": "stream",
          "name": "stdout",
          "text": [
            "padded corpus has shape: (15462, 11)\n"
          ]
        }
      ],
      "source": [
        "# Pad the whole corpus\n",
        "input_sequences = pad_seqs(input_sequences, max_sequence_len)\n",
        "\n",
        "print(f\"padded corpus has shape: {input_sequences.shape}\")"
      ]
    },
    {
      "cell_type": "markdown",
      "metadata": {
        "id": "59RD1YYNc7CW"
      },
      "source": [
        "**Expected Output:**\n",
        "\n",
        "```\n",
        "padded corpus has shape: (15462, 11)\n",
        "```"
      ]
    },
    {
      "cell_type": "markdown",
      "metadata": {
        "id": "ZbOidyPrXxf7"
      },
      "source": [
        "## Split the data into features and labels\n",
        "\n",
        "Before feeding the data into the neural network you should split it into features and labels. In this case the features will be the padded n_gram sequences with the last word removed from them and the labels will be the removed word.\n",
        "\n",
        "Complete the `features_and_labels` function below. This function expects the padded n_gram sequences as input and should return a tuple containing the features and the one hot encoded labels.\n",
        "\n",
        "Notice that the function also receives the total of words in the corpus, this parameter will be very important when one hot enconding the labels since every word in the corpus will be a label at least once. If you need a refresh of how the `to_categorical` function works take a look at the [docs](https://www.tensorflow.org/api_docs/python/tf/keras/utils/to_categorical)"
      ]
    },
    {
      "cell_type": "code",
      "execution_count": 21,
      "metadata": {
        "cellView": "code",
        "id": "9WGGbYdnZdmJ",
        "tags": [
          "graded"
        ]
      },
      "outputs": [],
      "source": [
        "# GRADED FUNCTION: features_and_labels\n",
        "def features_and_labels(input_sequences, total_words):\n",
        "    \"\"\"\n",
        "    Generates features and labels from n-grams\n",
        "    \n",
        "    Args:\n",
        "        input_sequences (list of int): sequences to split features and labels from\n",
        "        total_words (int): vocabulary size\n",
        "    \n",
        "    Returns:\n",
        "        features, one_hot_labels (array of int, array of int): arrays of features and one-hot encoded labels\n",
        "    \"\"\"\n",
        "    ### START CODE HERE\n",
        "    features = input_sequences[:,:-1]\n",
        "    labels = input_sequences[:,-1]\n",
        "    one_hot_labels = to_categorical(labels, num_classes = total_words)\n",
        "    ### END CODE HERE\n",
        "\n",
        "    return features, one_hot_labels"
      ]
    },
    {
      "cell_type": "code",
      "execution_count": 22,
      "metadata": {
        "id": "23DolaBRaIAZ",
        "tags": [
          "graded"
        ],
        "outputId": "556c4ef5-bc0d-4f0d-c5f4-0ca4c8da738e",
        "colab": {
          "base_uri": "https://localhost:8080/"
        }
      },
      "outputs": [
        {
          "output_type": "stream",
          "name": "stdout",
          "text": [
            "labels have shape: (5, 3211)\n",
            "\n",
            "features look like this:\n",
            "\n"
          ]
        },
        {
          "output_type": "execute_result",
          "data": {
            "text/plain": [
              "array([[  0,   0,   0,  34],\n",
              "       [  0,   0,  34, 417],\n",
              "       [  0,  34, 417, 877],\n",
              "       [ 34, 417, 877, 166],\n",
              "       [417, 877, 166, 213]], dtype=int32)"
            ]
          },
          "metadata": {},
          "execution_count": 22
        }
      ],
      "source": [
        "# Test your function with the padded n_grams_seq of the first example\n",
        "first_features, first_labels = features_and_labels(first_padded_seq, total_words)\n",
        "\n",
        "print(f\"labels have shape: {first_labels.shape}\")\n",
        "print(\"\\nfeatures look like this:\\n\")\n",
        "first_features"
      ]
    },
    {
      "cell_type": "markdown",
      "metadata": {
        "id": "7t4yAx2UaQ43"
      },
      "source": [
        "**Expected Output:**\n",
        "\n",
        "```\n",
        "labels have shape: (5, 3211)\n",
        "\n",
        "features look like this:\n",
        "\n",
        "array([[  0,   0,   0,  34],\n",
        "       [  0,   0,  34, 417],\n",
        "       [  0,  34, 417, 877],\n",
        "       [ 34, 417, 877, 166],\n",
        "       [417, 877, 166, 213]], dtype=int32)\n",
        "```"
      ]
    },
    {
      "cell_type": "code",
      "execution_count": 23,
      "metadata": {
        "id": "GRTuLEt3bRKa",
        "tags": [
          "graded"
        ],
        "outputId": "a1cd97c6-158f-4c59-ca37-c1c557bf777d",
        "colab": {
          "base_uri": "https://localhost:8080/"
        }
      },
      "outputs": [
        {
          "output_type": "stream",
          "name": "stdout",
          "text": [
            "features have shape: (15462, 10)\n",
            "labels have shape: (15462, 3211)\n"
          ]
        }
      ],
      "source": [
        "# Split the whole corpus\n",
        "features, labels = features_and_labels(input_sequences, total_words)\n",
        "\n",
        "print(f\"features have shape: {features.shape}\")\n",
        "print(f\"labels have shape: {labels.shape}\")"
      ]
    },
    {
      "cell_type": "markdown",
      "metadata": {
        "id": "xXSMK_HpdLns"
      },
      "source": [
        "**Expected Output:**\n",
        "\n",
        "```\n",
        "features have shape: (15462, 10)\n",
        "labels have shape: (15462, 3211)\n",
        "```"
      ]
    },
    {
      "cell_type": "markdown",
      "metadata": {
        "id": "ltxaOCE_aU6J"
      },
      "source": [
        "## Create the model\n",
        "\n",
        "Now you should define a model architecture capable of achieving an accuracy of at least 80%.\n",
        "\n",
        "Some hints to help you in this task:\n",
        "\n",
        "- An appropriate `output_dim` for the first layer (Embedding) is 100, this is already provided for you.\n",
        "- A Bidirectional LSTM is helpful for this particular problem.\n",
        "- The last layer should have the same number of units as the total number of words in the corpus and a softmax activation function.\n",
        "- This problem can be solved with only two layers (excluding the Embedding) so try out small architectures first."
      ]
    },
    {
      "cell_type": "code",
      "execution_count": 37,
      "metadata": {
        "cellView": "code",
        "id": "XrE6kpJFfvRY",
        "tags": [
          "graded"
        ]
      },
      "outputs": [],
      "source": [
        "# GRADED FUNCTION: create_model\n",
        "\n",
        "def create_model(total_words, max_sequence_len):\n",
        "    \"\"\"\n",
        "    Creates a text generator model\n",
        "    \n",
        "    Args:\n",
        "        total_words (int): size of the vocabulary for the Embedding layer input\n",
        "        max_sequence_len (int): length of the input sequences\n",
        "    \n",
        "    Returns:\n",
        "        model (tf.keras Model): the text generator model\n",
        "    \"\"\"\n",
        "    embedding_dim = 128\n",
        "    lstm_units = 120\n",
        "    learning_rate = 0.01\n",
        "    model = Sequential()\n",
        "    ### START CODE HERE\n",
        "    model.add(Embedding(total_words, embedding_dim, input_length = max_sequence_len - 1))\n",
        "    model.add(Bidirectional(LSTM(lstm_units, return_sequences=True)))\n",
        "    model.add(Dropout(0.2))\n",
        "    model.add(LSTM(96))\n",
        "    model.add(Dense(total_words/2, activation='relu', kernel_regularizer=regularizers.l2(learning_rate)))\n",
        "    model.add(Dense(total_words, activation='softmax'))\n",
        "\n",
        "    # Compile the model\n",
        "    model.compile(\n",
        "    loss='categorical_crossentropy',\n",
        "    optimizer=Adam(),\n",
        "    metrics=['accuracy']\n",
        ")\n",
        "    \n",
        "    ### END CODE HERE\n",
        "\n",
        "    return model"
      ]
    },
    {
      "cell_type": "code",
      "execution_count": 38,
      "metadata": {
        "id": "0IpX_Gu_gISk",
        "tags": [],
        "outputId": "db0e4942-a44d-4c5b-888b-b567e4c865d8",
        "colab": {
          "base_uri": "https://localhost:8080/"
        }
      },
      "outputs": [
        {
          "output_type": "stream",
          "name": "stdout",
          "text": [
            "Epoch 1/150\n",
            "484/484 [==============================] - 15s 11ms/step - loss: 6.8930 - accuracy: 0.0210\n",
            "Epoch 2/150\n",
            "484/484 [==============================] - 5s 11ms/step - loss: 6.4995 - accuracy: 0.0217\n",
            "Epoch 3/150\n",
            "484/484 [==============================] - 5s 11ms/step - loss: 6.3942 - accuracy: 0.0268\n",
            "Epoch 4/150\n",
            "484/484 [==============================] - 5s 11ms/step - loss: 6.2704 - accuracy: 0.0312\n",
            "Epoch 5/150\n",
            "484/484 [==============================] - 5s 11ms/step - loss: 6.1772 - accuracy: 0.0367\n",
            "Epoch 6/150\n",
            "484/484 [==============================] - 5s 11ms/step - loss: 6.0925 - accuracy: 0.0395\n",
            "Epoch 7/150\n",
            "484/484 [==============================] - 5s 11ms/step - loss: 6.0161 - accuracy: 0.0415\n",
            "Epoch 8/150\n",
            "484/484 [==============================] - 5s 11ms/step - loss: 5.9332 - accuracy: 0.0433\n",
            "Epoch 9/150\n",
            "484/484 [==============================] - 5s 11ms/step - loss: 5.8320 - accuracy: 0.0490\n",
            "Epoch 10/150\n",
            "484/484 [==============================] - 5s 11ms/step - loss: 5.7262 - accuracy: 0.0570\n",
            "Epoch 11/150\n",
            "484/484 [==============================] - 5s 11ms/step - loss: 5.6135 - accuracy: 0.0633\n",
            "Epoch 12/150\n",
            "484/484 [==============================] - 5s 11ms/step - loss: 5.5087 - accuracy: 0.0691\n",
            "Epoch 13/150\n",
            "484/484 [==============================] - 5s 10ms/step - loss: 5.4001 - accuracy: 0.0775\n",
            "Epoch 14/150\n",
            "484/484 [==============================] - 5s 10ms/step - loss: 5.2961 - accuracy: 0.0834\n",
            "Epoch 15/150\n",
            "484/484 [==============================] - 5s 11ms/step - loss: 5.1930 - accuracy: 0.0909\n",
            "Epoch 16/150\n",
            "484/484 [==============================] - 5s 10ms/step - loss: 5.0843 - accuracy: 0.0979\n",
            "Epoch 17/150\n",
            "484/484 [==============================] - 5s 10ms/step - loss: 4.9871 - accuracy: 0.1068\n",
            "Epoch 18/150\n",
            "484/484 [==============================] - 5s 10ms/step - loss: 4.8896 - accuracy: 0.1121\n",
            "Epoch 19/150\n",
            "484/484 [==============================] - 5s 11ms/step - loss: 4.7854 - accuracy: 0.1220\n",
            "Epoch 20/150\n",
            "484/484 [==============================] - 5s 11ms/step - loss: 4.6896 - accuracy: 0.1288\n",
            "Epoch 21/150\n",
            "484/484 [==============================] - 5s 11ms/step - loss: 4.5934 - accuracy: 0.1395\n",
            "Epoch 22/150\n",
            "484/484 [==============================] - 5s 11ms/step - loss: 4.4984 - accuracy: 0.1512\n",
            "Epoch 23/150\n",
            "484/484 [==============================] - 5s 11ms/step - loss: 4.3990 - accuracy: 0.1599\n",
            "Epoch 24/150\n",
            "484/484 [==============================] - 5s 11ms/step - loss: 4.3033 - accuracy: 0.1718\n",
            "Epoch 25/150\n",
            "484/484 [==============================] - 5s 10ms/step - loss: 4.2069 - accuracy: 0.1856\n",
            "Epoch 26/150\n",
            "484/484 [==============================] - 5s 10ms/step - loss: 4.1049 - accuracy: 0.1987\n",
            "Epoch 27/150\n",
            "484/484 [==============================] - 5s 11ms/step - loss: 4.0181 - accuracy: 0.2095\n",
            "Epoch 28/150\n",
            "484/484 [==============================] - 5s 11ms/step - loss: 3.9293 - accuracy: 0.2273\n",
            "Epoch 29/150\n",
            "484/484 [==============================] - 5s 10ms/step - loss: 3.8310 - accuracy: 0.2413\n",
            "Epoch 30/150\n",
            "484/484 [==============================] - 5s 11ms/step - loss: 3.7478 - accuracy: 0.2521\n",
            "Epoch 31/150\n",
            "484/484 [==============================] - 5s 11ms/step - loss: 3.6568 - accuracy: 0.2685\n",
            "Epoch 32/150\n",
            "484/484 [==============================] - 5s 11ms/step - loss: 3.5709 - accuracy: 0.2868\n",
            "Epoch 33/150\n",
            "484/484 [==============================] - 5s 11ms/step - loss: 3.4920 - accuracy: 0.3021\n",
            "Epoch 34/150\n",
            "484/484 [==============================] - 5s 11ms/step - loss: 3.3987 - accuracy: 0.3260\n",
            "Epoch 35/150\n",
            "484/484 [==============================] - 5s 11ms/step - loss: 3.3258 - accuracy: 0.3401\n",
            "Epoch 36/150\n",
            "484/484 [==============================] - 5s 11ms/step - loss: 3.2468 - accuracy: 0.3574\n",
            "Epoch 37/150\n",
            "484/484 [==============================] - 5s 11ms/step - loss: 3.1801 - accuracy: 0.3748\n",
            "Epoch 38/150\n",
            "484/484 [==============================] - 5s 10ms/step - loss: 3.1031 - accuracy: 0.3896\n",
            "Epoch 39/150\n",
            "484/484 [==============================] - 5s 10ms/step - loss: 3.0273 - accuracy: 0.4055\n",
            "Epoch 40/150\n",
            "484/484 [==============================] - 5s 11ms/step - loss: 2.9703 - accuracy: 0.4201\n",
            "Epoch 41/150\n",
            "484/484 [==============================] - 5s 11ms/step - loss: 2.9031 - accuracy: 0.4349\n",
            "Epoch 42/150\n",
            "484/484 [==============================] - 5s 10ms/step - loss: 2.8417 - accuracy: 0.4470\n",
            "Epoch 43/150\n",
            "484/484 [==============================] - 5s 11ms/step - loss: 2.7746 - accuracy: 0.4613\n",
            "Epoch 44/150\n",
            "484/484 [==============================] - 5s 11ms/step - loss: 2.7338 - accuracy: 0.4725\n",
            "Epoch 45/150\n",
            "484/484 [==============================] - 5s 11ms/step - loss: 2.6712 - accuracy: 0.4871\n",
            "Epoch 46/150\n",
            "484/484 [==============================] - 5s 11ms/step - loss: 2.6116 - accuracy: 0.5001\n",
            "Epoch 47/150\n",
            "484/484 [==============================] - 5s 11ms/step - loss: 2.5508 - accuracy: 0.5124\n",
            "Epoch 48/150\n",
            "484/484 [==============================] - 5s 10ms/step - loss: 2.4942 - accuracy: 0.5274\n",
            "Epoch 49/150\n",
            "484/484 [==============================] - 5s 11ms/step - loss: 2.4522 - accuracy: 0.5362\n",
            "Epoch 50/150\n",
            "484/484 [==============================] - 5s 11ms/step - loss: 2.4092 - accuracy: 0.5466\n",
            "Epoch 51/150\n",
            "484/484 [==============================] - 5s 11ms/step - loss: 2.3683 - accuracy: 0.5498\n",
            "Epoch 52/150\n",
            "484/484 [==============================] - 5s 11ms/step - loss: 2.3206 - accuracy: 0.5631\n",
            "Epoch 53/150\n",
            "484/484 [==============================] - 5s 11ms/step - loss: 2.2778 - accuracy: 0.5706\n",
            "Epoch 54/150\n",
            "484/484 [==============================] - 5s 11ms/step - loss: 2.2327 - accuracy: 0.5848\n",
            "Epoch 55/150\n",
            "484/484 [==============================] - 5s 10ms/step - loss: 2.1995 - accuracy: 0.5917\n",
            "Epoch 56/150\n",
            "484/484 [==============================] - 5s 11ms/step - loss: 2.1495 - accuracy: 0.6003\n",
            "Epoch 57/150\n",
            "484/484 [==============================] - 5s 11ms/step - loss: 2.1093 - accuracy: 0.6118\n",
            "Epoch 58/150\n",
            "484/484 [==============================] - 5s 11ms/step - loss: 2.0756 - accuracy: 0.6169\n",
            "Epoch 59/150\n",
            "484/484 [==============================] - 5s 11ms/step - loss: 2.0384 - accuracy: 0.6244\n",
            "Epoch 60/150\n",
            "484/484 [==============================] - 5s 10ms/step - loss: 2.0104 - accuracy: 0.6299\n",
            "Epoch 61/150\n",
            "484/484 [==============================] - 5s 11ms/step - loss: 1.9722 - accuracy: 0.6381\n",
            "Epoch 62/150\n",
            "484/484 [==============================] - 5s 11ms/step - loss: 1.9398 - accuracy: 0.6464\n",
            "Epoch 63/150\n",
            "484/484 [==============================] - 5s 11ms/step - loss: 1.9150 - accuracy: 0.6510\n",
            "Epoch 64/150\n",
            "484/484 [==============================] - 5s 11ms/step - loss: 1.8832 - accuracy: 0.6551\n",
            "Epoch 65/150\n",
            "484/484 [==============================] - 5s 11ms/step - loss: 1.8544 - accuracy: 0.6669\n",
            "Epoch 66/150\n",
            "484/484 [==============================] - 5s 11ms/step - loss: 1.8189 - accuracy: 0.6717\n",
            "Epoch 67/150\n",
            "484/484 [==============================] - 5s 11ms/step - loss: 1.7926 - accuracy: 0.6792\n",
            "Epoch 68/150\n",
            "484/484 [==============================] - 5s 11ms/step - loss: 1.7725 - accuracy: 0.6779\n",
            "Epoch 69/150\n",
            "484/484 [==============================] - 5s 11ms/step - loss: 1.7336 - accuracy: 0.6923\n",
            "Epoch 70/150\n",
            "484/484 [==============================] - 5s 11ms/step - loss: 1.7229 - accuracy: 0.6875\n",
            "Epoch 71/150\n",
            "484/484 [==============================] - 5s 11ms/step - loss: 1.6968 - accuracy: 0.6962\n",
            "Epoch 72/150\n",
            "484/484 [==============================] - 5s 11ms/step - loss: 1.6722 - accuracy: 0.7004\n",
            "Epoch 73/150\n",
            "484/484 [==============================] - 5s 11ms/step - loss: 1.6379 - accuracy: 0.7097\n",
            "Epoch 74/150\n",
            "484/484 [==============================] - 5s 11ms/step - loss: 1.6278 - accuracy: 0.7086\n",
            "Epoch 75/150\n",
            "484/484 [==============================] - 5s 11ms/step - loss: 1.6096 - accuracy: 0.7104\n",
            "Epoch 76/150\n",
            "484/484 [==============================] - 5s 11ms/step - loss: 1.5847 - accuracy: 0.7196\n",
            "Epoch 77/150\n",
            "484/484 [==============================] - 5s 11ms/step - loss: 1.5552 - accuracy: 0.7249\n",
            "Epoch 78/150\n",
            "484/484 [==============================] - 5s 10ms/step - loss: 1.5283 - accuracy: 0.7311\n",
            "Epoch 79/150\n",
            "484/484 [==============================] - 5s 11ms/step - loss: 1.5330 - accuracy: 0.7296\n",
            "Epoch 80/150\n",
            "484/484 [==============================] - 5s 11ms/step - loss: 1.5019 - accuracy: 0.7348\n",
            "Epoch 81/150\n",
            "484/484 [==============================] - 5s 11ms/step - loss: 1.4882 - accuracy: 0.7353\n",
            "Epoch 82/150\n",
            "484/484 [==============================] - 5s 11ms/step - loss: 1.4610 - accuracy: 0.7427\n",
            "Epoch 83/150\n",
            "484/484 [==============================] - 5s 11ms/step - loss: 1.4492 - accuracy: 0.7475\n",
            "Epoch 84/150\n",
            "484/484 [==============================] - 5s 11ms/step - loss: 1.4311 - accuracy: 0.7480\n",
            "Epoch 85/150\n",
            "484/484 [==============================] - 5s 11ms/step - loss: 1.4203 - accuracy: 0.7524\n",
            "Epoch 86/150\n",
            "484/484 [==============================] - 5s 11ms/step - loss: 1.4124 - accuracy: 0.7513\n",
            "Epoch 87/150\n",
            "484/484 [==============================] - 5s 11ms/step - loss: 1.3866 - accuracy: 0.7558\n",
            "Epoch 88/150\n",
            "484/484 [==============================] - 5s 11ms/step - loss: 1.3761 - accuracy: 0.7576\n",
            "Epoch 89/150\n",
            "484/484 [==============================] - 5s 11ms/step - loss: 1.3588 - accuracy: 0.7652\n",
            "Epoch 90/150\n",
            "484/484 [==============================] - 5s 11ms/step - loss: 1.3322 - accuracy: 0.7692\n",
            "Epoch 91/150\n",
            "484/484 [==============================] - 5s 11ms/step - loss: 1.3267 - accuracy: 0.7706\n",
            "Epoch 92/150\n",
            "484/484 [==============================] - 5s 11ms/step - loss: 1.3172 - accuracy: 0.7673\n",
            "Epoch 93/150\n",
            "484/484 [==============================] - 5s 11ms/step - loss: 1.3155 - accuracy: 0.7657\n",
            "Epoch 94/150\n",
            "484/484 [==============================] - 5s 11ms/step - loss: 1.2923 - accuracy: 0.7701\n",
            "Epoch 95/150\n",
            "484/484 [==============================] - 5s 11ms/step - loss: 1.2717 - accuracy: 0.7787\n",
            "Epoch 96/150\n",
            "484/484 [==============================] - 5s 11ms/step - loss: 1.2745 - accuracy: 0.7736\n",
            "Epoch 97/150\n",
            "484/484 [==============================] - 5s 11ms/step - loss: 1.2416 - accuracy: 0.7860\n",
            "Epoch 98/150\n",
            "484/484 [==============================] - 5s 11ms/step - loss: 1.2434 - accuracy: 0.7818\n",
            "Epoch 99/150\n",
            "484/484 [==============================] - 5s 11ms/step - loss: 1.2372 - accuracy: 0.7814\n",
            "Epoch 100/150\n",
            "484/484 [==============================] - 5s 11ms/step - loss: 1.2270 - accuracy: 0.7857\n",
            "Epoch 101/150\n",
            "484/484 [==============================] - 5s 11ms/step - loss: 1.2105 - accuracy: 0.7838\n",
            "Epoch 102/150\n",
            "484/484 [==============================] - 5s 11ms/step - loss: 1.2058 - accuracy: 0.7852\n",
            "Epoch 103/150\n",
            "484/484 [==============================] - 5s 11ms/step - loss: 1.1896 - accuracy: 0.7890\n",
            "Epoch 104/150\n",
            "484/484 [==============================] - 5s 11ms/step - loss: 1.1931 - accuracy: 0.7895\n",
            "Epoch 105/150\n",
            "484/484 [==============================] - 5s 11ms/step - loss: 1.1793 - accuracy: 0.7908\n",
            "Epoch 106/150\n",
            "484/484 [==============================] - 5s 11ms/step - loss: 1.1607 - accuracy: 0.7959\n",
            "Epoch 107/150\n",
            "484/484 [==============================] - 5s 11ms/step - loss: 1.1490 - accuracy: 0.7966\n",
            "Epoch 108/150\n",
            "484/484 [==============================] - 5s 11ms/step - loss: 1.1535 - accuracy: 0.7947\n",
            "Epoch 109/150\n",
            "484/484 [==============================] - 5s 11ms/step - loss: 1.1337 - accuracy: 0.7998\n",
            "Epoch 110/150\n",
            "484/484 [==============================] - 5s 11ms/step - loss: 1.1299 - accuracy: 0.8020\n",
            "Epoch 111/150\n",
            "484/484 [==============================] - 5s 11ms/step - loss: 1.1222 - accuracy: 0.8018\n",
            "Epoch 112/150\n",
            "484/484 [==============================] - 5s 11ms/step - loss: 1.1142 - accuracy: 0.8014\n",
            "Epoch 113/150\n",
            "484/484 [==============================] - 5s 11ms/step - loss: 1.1109 - accuracy: 0.8063\n",
            "Epoch 114/150\n",
            "484/484 [==============================] - 5s 11ms/step - loss: 1.0978 - accuracy: 0.8066\n",
            "Epoch 115/150\n",
            "484/484 [==============================] - 5s 11ms/step - loss: 1.0945 - accuracy: 0.8052\n",
            "Epoch 116/150\n",
            "484/484 [==============================] - 5s 11ms/step - loss: 1.0910 - accuracy: 0.8058\n",
            "Epoch 117/150\n",
            "484/484 [==============================] - 5s 11ms/step - loss: 1.0803 - accuracy: 0.8072\n",
            "Epoch 118/150\n",
            "484/484 [==============================] - 5s 11ms/step - loss: 1.0686 - accuracy: 0.8100\n",
            "Epoch 119/150\n",
            "484/484 [==============================] - 5s 11ms/step - loss: 1.0648 - accuracy: 0.8093\n",
            "Epoch 120/150\n",
            "484/484 [==============================] - 5s 11ms/step - loss: 1.0790 - accuracy: 0.8041\n",
            "Epoch 121/150\n",
            "484/484 [==============================] - 5s 11ms/step - loss: 1.0507 - accuracy: 0.8135\n",
            "Epoch 122/150\n",
            "484/484 [==============================] - 5s 11ms/step - loss: 1.0370 - accuracy: 0.8140\n",
            "Epoch 123/150\n",
            "484/484 [==============================] - 5s 11ms/step - loss: 1.0425 - accuracy: 0.8145\n",
            "Epoch 124/150\n",
            "484/484 [==============================] - 5s 11ms/step - loss: 1.0404 - accuracy: 0.8146\n",
            "Epoch 125/150\n",
            "484/484 [==============================] - 5s 11ms/step - loss: 1.0357 - accuracy: 0.8124\n",
            "Epoch 126/150\n",
            "484/484 [==============================] - 5s 11ms/step - loss: 1.0294 - accuracy: 0.8118\n",
            "Epoch 127/150\n",
            "484/484 [==============================] - 5s 11ms/step - loss: 1.0157 - accuracy: 0.8170\n",
            "Epoch 128/150\n",
            "484/484 [==============================] - 5s 11ms/step - loss: 1.0235 - accuracy: 0.8157\n",
            "Epoch 129/150\n",
            "484/484 [==============================] - 5s 11ms/step - loss: 1.0022 - accuracy: 0.8186\n",
            "Epoch 130/150\n",
            "484/484 [==============================] - 5s 11ms/step - loss: 1.0066 - accuracy: 0.8182\n",
            "Epoch 131/150\n",
            "484/484 [==============================] - 5s 11ms/step - loss: 0.9996 - accuracy: 0.8168\n",
            "Epoch 132/150\n",
            "484/484 [==============================] - 5s 11ms/step - loss: 1.0094 - accuracy: 0.8129\n",
            "Epoch 133/150\n",
            "484/484 [==============================] - 5s 11ms/step - loss: 0.9956 - accuracy: 0.8176\n",
            "Epoch 134/150\n",
            "484/484 [==============================] - 5s 11ms/step - loss: 0.9983 - accuracy: 0.8151\n",
            "Epoch 135/150\n",
            "484/484 [==============================] - 5s 11ms/step - loss: 0.9748 - accuracy: 0.8201\n",
            "Epoch 136/150\n",
            "484/484 [==============================] - 5s 11ms/step - loss: 0.9704 - accuracy: 0.8231\n",
            "Epoch 137/150\n",
            "484/484 [==============================] - 5s 11ms/step - loss: 0.9768 - accuracy: 0.8181\n",
            "Epoch 138/150\n",
            "484/484 [==============================] - 5s 11ms/step - loss: 0.9664 - accuracy: 0.8208\n",
            "Epoch 139/150\n",
            "484/484 [==============================] - 5s 11ms/step - loss: 0.9618 - accuracy: 0.8219\n",
            "Epoch 140/150\n",
            "484/484 [==============================] - 5s 11ms/step - loss: 0.9631 - accuracy: 0.8217\n",
            "Epoch 141/150\n",
            "484/484 [==============================] - 5s 11ms/step - loss: 0.9621 - accuracy: 0.8194\n",
            "Epoch 142/150\n",
            "484/484 [==============================] - 5s 11ms/step - loss: 0.9633 - accuracy: 0.8212\n",
            "Epoch 143/150\n",
            "484/484 [==============================] - 5s 11ms/step - loss: 0.9596 - accuracy: 0.8210\n",
            "Epoch 144/150\n",
            "484/484 [==============================] - 5s 11ms/step - loss: 0.9486 - accuracy: 0.8238\n",
            "Epoch 145/150\n",
            "484/484 [==============================] - 5s 11ms/step - loss: 0.9479 - accuracy: 0.8238\n",
            "Epoch 146/150\n",
            "484/484 [==============================] - 5s 11ms/step - loss: 0.9395 - accuracy: 0.8247\n",
            "Epoch 147/150\n",
            "484/484 [==============================] - 5s 11ms/step - loss: 0.9168 - accuracy: 0.8294\n",
            "Epoch 148/150\n",
            "484/484 [==============================] - 5s 11ms/step - loss: 0.9261 - accuracy: 0.8260\n",
            "Epoch 149/150\n",
            "484/484 [==============================] - 5s 11ms/step - loss: 0.9431 - accuracy: 0.8207\n",
            "Epoch 150/150\n",
            "484/484 [==============================] - 5s 11ms/step - loss: 0.9331 - accuracy: 0.8240\n"
          ]
        }
      ],
      "source": [
        "# Get the untrained model\n",
        "model = create_model(total_words, max_sequence_len)\n",
        "\n",
        "# Train the model\n",
        "history = model.fit(features, labels, epochs=150, verbose=1)"
      ]
    },
    {
      "cell_type": "markdown",
      "metadata": {
        "id": "gy72RPgly55q"
      },
      "source": [
        "**To pass this assignment, your model should achieve a training accuracy of at least 80%**. If your model didn't achieve this threshold, try training again with a different model architecture, consider increasing the number of unit in your `LSTM` layer."
      ]
    },
    {
      "cell_type": "code",
      "execution_count": 39,
      "metadata": {
        "id": "1fXTEO3GJ282",
        "tags": [],
        "outputId": "a59ca148-422e-41ce-8a9d-53b238c43ef0",
        "colab": {
          "base_uri": "https://localhost:8080/",
          "height": 545
        }
      },
      "outputs": [
        {
          "output_type": "display_data",
          "data": {
            "text/plain": [
              "<Figure size 432x288 with 1 Axes>"
            ],
            "image/png": "[encoded data removed]"
          },
          "metadata": {
            "needs_background": "light"
          }
        },
        {
          "output_type": "display_data",
          "data": {
            "text/plain": [
              "<Figure size 432x288 with 1 Axes>"
            ],
            "image/png": "[encoded data removed]"
          },
          "metadata": {
            "needs_background": "light"
          }
        }
      ],
      "source": [
        "# Take a look at the training curves of your model\n",
        "\n",
        "acc = history.history['accuracy']\n",
        "loss = history.history['loss']\n",
        "\n",
        "epochs = range(len(acc))\n",
        "\n",
        "plt.plot(epochs, acc, 'b', label='Training accuracy')\n",
        "plt.title('Training accuracy')\n",
        "\n",
        "plt.figure()\n",
        "\n",
        "plt.plot(epochs, loss, 'b', label='Training Loss')\n",
        "plt.title('Training loss')\n",
        "plt.legend()\n",
        "\n",
        "plt.show()"
      ]
    },
    {
      "cell_type": "markdown",
      "metadata": {
        "id": "OjvED5A3qrn2"
      },
      "source": [
        "Before closing the assignment, be sure to also download the `history.pkl` file which contains the information of the training history of your model and will be used to compute your grade. You can download this file by running the cell below:"
      ]
    },
    {
      "cell_type": "code",
      "execution_count": 40,
      "metadata": {
        "id": "9QRG73l6qE-c",
        "tags": [],
        "outputId": "dccdd875-c9df-494f-b20d-e0a84aa5ce44",
        "colab": {
          "base_uri": "https://localhost:8080/",
          "height": 17
        }
      },
      "outputs": [
        {
          "output_type": "display_data",
          "data": {
            "text/plain": [
              "<IPython.core.display.Javascript object>"
            ],
            "application/javascript": [
              "\n",
              "    async function download(id, filename, size) {\n",
              "      if (!google.colab.kernel.accessAllowed) {\n",
              "        return;\n",
              "      }\n",
              "      const div = document.createElement('div');\n",
              "      const label = document.createElement('label');\n",
              "      label.textContent = `Downloading \"${filename}\": `;\n",
              "      div.appendChild(label);\n",
              "      const progress = document.createElement('progress');\n",
              "      progress.max = size;\n",
              "      div.appendChild(progress);\n",
              "      document.body.appendChild(div);\n",
              "\n",
              "      const buffers = [];\n",
              "      let downloaded = 0;\n",
              "\n",
              "      const channel = await google.colab.kernel.comms.open(id);\n",
              "      // Send a message to notify the kernel that we're ready.\n",
              "      channel.send({})\n",
              "\n",
              "      for await (const message of channel.messages) {\n",
              "        // Send a message to notify the kernel that we're ready.\n",
              "        channel.send({})\n",
              "        if (message.buffers) {\n",
              "          for (const buffer of message.buffers) {\n",
              "            buffers.push(buffer);\n",
              "            downloaded += buffer.byteLength;\n",
              "            progress.value = downloaded;\n",
              "          }\n",
              "        }\n",
              "      }\n",
              "      const blob = new Blob(buffers, {type: 'application/binary'});\n",
              "      const a = document.createElement('a');\n",
              "      a.href = window.URL.createObjectURL(blob);\n",
              "      a.download = filename;\n",
              "      div.appendChild(a);\n",
              "      a.click();\n",
              "      div.remove();\n",
              "    }\n",
              "  "
            ]
          },
          "metadata": {}
        },
        {
          "output_type": "display_data",
          "data": {
            "text/plain": [
              "<IPython.core.display.Javascript object>"
            ],
            "application/javascript": [
              "download(\"download_a8f24170-a47a-4795-91f4-4637bdeed35c\", \"history.pkl\", 2744)"
            ]
          },
          "metadata": {}
        }
      ],
      "source": [
        "def download_history():\n",
        "  import pickle\n",
        "  from google.colab import files\n",
        "\n",
        "  with open('history.pkl', 'wb') as f:\n",
        "    pickle.dump(history.history, f)\n",
        "\n",
        "  files.download('history.pkl')\n",
        "\n",
        "download_history()"
      ]
    },
    {
      "cell_type": "markdown",
      "metadata": {
        "id": "wdsMszk9zBs_"
      },
      "source": [
        "## See your model in action\n",
        "\n",
        "After all your work it is finally time to see your model generating text. \n",
        "\n",
        "Run the cell below to generate the next 100 words of a seed text.\n",
        "\n",
        "After submitting your assignment you are encouraged to try out training for different amounts of epochs and seeing how this affects the coherency of the generated text. Also try changing the seed text to see what you get!"
      ]
    },
    {
      "cell_type": "code",
      "execution_count": 41,
      "metadata": {
        "id": "6Vc6PHgxa6Hm",
        "tags": [],
        "outputId": "91c34334-a7cb-492f-b5e4-345f86e46e33",
        "colab": {
          "base_uri": "https://localhost:8080/"
        }
      },
      "outputs": [
        {
          "output_type": "stream",
          "name": "stdout",
          "text": [
            "Help me Obi Wan Kenobi, you're my only hope some asleep new know not her end rare one skill days alone live so dearer skill green heart thee ' her under make crime thee doth our heir might boast give thee so thee thee to thee seem to thee so thought grace be your grief did know doth be away to come prone day alone who for thee so long delight delight knights survey hate on bright fullness aside twain twain none forgot hate hate toil'd hate alone toil'd dearer rhyme twain none halt recite abuse me so thence thence thence long hate shine bright bright aside prove '\n"
          ]
        }
      ],
      "source": [
        "seed_text = \"Help me Obi Wan Kenobi, you're my only hope\"\n",
        "next_words = 100\n",
        "  \n",
        "for _ in range(next_words):\n",
        "\t# Convert the text into sequences\n",
        "\ttoken_list = tokenizer.texts_to_sequences([seed_text])[0]\n",
        "\t# Pad the sequences\n",
        "\ttoken_list = pad_sequences([token_list], maxlen=max_sequence_len-1, padding='pre')\n",
        "\t# Get the probabilities of predicting a word\n",
        "\tpredicted = model.predict(token_list, verbose=0)\n",
        "\t# Choose the next word based on the maximum probability\n",
        "\tpredicted = np.argmax(predicted, axis=-1).item()\n",
        "\t# Get the actual word from the word index\n",
        "\toutput_word = tokenizer.index_word[predicted]\n",
        "\t# Append to the current text\n",
        "\tseed_text += \" \" + output_word\n",
        "\n",
        "print(seed_text)"
      ]
    },
    {
      "cell_type": "markdown",
      "metadata": {
        "id": "oQVDbdcYqSux"
      },
      "source": [
        "You will also need to submit this notebook for grading. To download it, click on the File tab in the upper left corner of the screen then click on Download -> Download .ipynb. You can name it anything you want as long as it is a valid .ipynb (jupyter notebook) file.\n",
        "\n",
        "**Congratulations on finishing this week's assignment!**\n",
        "\n",
        "You have successfully implemented a neural network capable of predicting the next word in a sequence of text!\n",
        "\n",
        "**We hope to see you in the next course of the specialization! Keep it up!**"
      ]
    }
  ],
  "metadata": {
    "accelerator": "GPU",
    "dlai_version": "1.2.0",
    "jupytext": {
      "main_language": "python"
    },
    "kernelspec": {
      "display_name": "Python 3",
      "language": "python",
      "name": "python3"
    },
    "language_info": {
      "codemirror_mode": {
        "name": "ipython",
        "version": 3
      },
      "file_extension": ".py",
      "mimetype": "text/x-python",
      "name": "python",
      "nbconvert_exporter": "python",
      "pygments_lexer": "ipython3",
      "version": "3.7.4"
    },
    "colab": {
      "provenance": []
    }
  },
  "nbformat": 4,
  "nbformat_minor": 0
}